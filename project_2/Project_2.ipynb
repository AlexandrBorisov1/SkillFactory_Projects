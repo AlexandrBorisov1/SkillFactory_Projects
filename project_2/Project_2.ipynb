{
  "cells": [
    {
      "attachments": {},
      "cell_type": "markdown",
      "id": "42289889-bd57-434e-9637-d3e354756316",
      "metadata": {
        "id": "42289889-bd57-434e-9637-d3e354756316"
      },
      "source": [
        "<center> <img src = https://raw.githubusercontent.com/AndreyRysistov/DatasetsForPandas/main/hh%20label.jpg alt=\"drawing\" style=\"width:400px;\">"
      ]
    },
    {
      "attachments": {},
      "cell_type": "markdown",
      "id": "829cb75b-f14e-4ba8-9195-7ba929a7d656",
      "metadata": {
        "id": "829cb75b-f14e-4ba8-9195-7ba929a7d656",
        "tags": []
      },
      "source": [
        "# <center> Проект: Анализ вакансий из HeadHunter\n",
        "   "
      ]
    },
    {
      "cell_type": "code",
      "execution_count": 6,
      "id": "dccfde33-2452-43fb-a8a5-5c6ebc02a71d",
      "metadata": {
        "id": "dccfde33-2452-43fb-a8a5-5c6ebc02a71d"
      },
      "outputs": [],
      "source": [
        "import pandas as pd\n",
        "import psycopg2"
      ]
    },
    {
      "cell_type": "code",
      "execution_count": 7,
      "id": "oVKH4ehvf8Ay",
      "metadata": {
        "id": "oVKH4ehvf8Ay"
      },
      "outputs": [],
      "source": [
        "# вставьте сюда параметры подключения из юнита 1. Работа с базой данных из Python \n"
      ]
    },
    {
      "cell_type": "code",
      "execution_count": 8,
      "id": "G4X_q8KBf7SF",
      "metadata": {
        "id": "G4X_q8KBf7SF"
      },
      "outputs": [],
      "source": [
        "connection = psycopg2.connect(\n",
        "    dbname=DBNAME,\n",
        "    user=USER,\n",
        "    host=HOST,\n",
        "    password=PASSWORD,\n",
        "    port=PORT\n",
        ")"
      ]
    },
    {
      "attachments": {},
      "cell_type": "markdown",
      "id": "0dc6476b-7a00-44f1-ac93-6e3baed33a29",
      "metadata": {
        "id": "0dc6476b-7a00-44f1-ac93-6e3baed33a29"
      },
      "source": [
        "# Юнит 3. Предварительный анализ данных"
      ]
    },
    {
      "attachments": {},
      "cell_type": "markdown",
      "id": "889782b6-8d1c-410e-8920-e57f27917c64",
      "metadata": {
        "id": "889782b6-8d1c-410e-8920-e57f27917c64"
      },
      "source": [
        "1. Напишите запрос, который посчитает количество вакансий в нашей базе (вакансии находятся в таблице vacancies). "
      ]
    },
    {
      "cell_type": "code",
      "execution_count": 9,
      "id": "bc39e68e-ed02-4ee2-9235-7258a2f867a8",
      "metadata": {
        "id": "bc39e68e-ed02-4ee2-9235-7258a2f867a8"
      },
      "outputs": [],
      "source": [
        "# текст запроса\n",
        "query_3_1 = f'''\n",
        "                SELECT count(*)\n",
        "                FROM public.vacancies\n",
        "'''"
      ]
    },
    {
      "cell_type": "code",
      "execution_count": 10,
      "id": "7mAwtsk4hEHY",
      "metadata": {
        "id": "7mAwtsk4hEHY"
      },
      "outputs": [
        {
          "name": "stdout",
          "output_type": "stream",
          "text": [
            "49197\n"
          ]
        },
        {
          "name": "stderr",
          "output_type": "stream",
          "text": [
            "C:\\Users\\admin\\AppData\\Local\\Temp\\ipykernel_14740\\2322379249.py:3: UserWarning: pandas only supports SQLAlchemy connectable (engine/connection) or database string URI or sqlite3 DBAPI2 connection. Other DBAPI2 objects are not tested. Please consider using SQLAlchemy.\n",
            "  result_3_1 = pd.read_sql_query(query_3_1, connection)\n"
          ]
        }
      ],
      "source": [
        "# результат запроса\n",
        "\n",
        "result_3_1 = pd.read_sql_query(query_3_1, connection)\n",
        "print(result_3_1.iloc[0, 0])"
      ]
    },
    {
      "attachments": {},
      "cell_type": "markdown",
      "id": "b583485d-1f9e-494e-ada4-80ffff7c53d6",
      "metadata": {
        "id": "b583485d-1f9e-494e-ada4-80ffff7c53d6"
      },
      "source": [
        "2. Напишите запрос, который посчитает количество работодателей (таблица employers). "
      ]
    },
    {
      "cell_type": "code",
      "execution_count": 11,
      "id": "5408c52c-3407-4a63-b25b-1aafa2322d28",
      "metadata": {
        "id": "5408c52c-3407-4a63-b25b-1aafa2322d28"
      },
      "outputs": [],
      "source": [
        "# текст запроса\n",
        "query_3_2 = f'''\n",
        "                SELECT count(*)\n",
        "                FROM public.employers\n",
        "'''"
      ]
    },
    {
      "cell_type": "code",
      "execution_count": 12,
      "id": "jVL4eshKhdqc",
      "metadata": {
        "id": "jVL4eshKhdqc"
      },
      "outputs": [
        {
          "name": "stderr",
          "output_type": "stream",
          "text": [
            "C:\\Users\\admin\\AppData\\Local\\Temp\\ipykernel_14740\\805946276.py:2: UserWarning: pandas only supports SQLAlchemy connectable (engine/connection) or database string URI or sqlite3 DBAPI2 connection. Other DBAPI2 objects are not tested. Please consider using SQLAlchemy.\n",
            "  result_3_2 = pd.read_sql_query(query_3_2, connection)\n"
          ]
        },
        {
          "name": "stdout",
          "output_type": "stream",
          "text": [
            "23501\n"
          ]
        }
      ],
      "source": [
        "# результат запроса\n",
        "result_3_2 = pd.read_sql_query(query_3_2, connection)\n",
        "print(result_3_2.iloc[0, 0])"
      ]
    },
    {
      "attachments": {},
      "cell_type": "markdown",
      "id": "a2bfff1f-c975-4bf6-84be-2185d79dcb76",
      "metadata": {
        "id": "a2bfff1f-c975-4bf6-84be-2185d79dcb76"
      },
      "source": [
        "3. Посчитате с помощью запроса количество регионов (таблица areas)."
      ]
    },
    {
      "cell_type": "code",
      "execution_count": 13,
      "id": "1m8QJwBYhey6",
      "metadata": {
        "id": "1m8QJwBYhey6"
      },
      "outputs": [],
      "source": [
        "# текст запроса\n",
        "query_3_3 = f'''\n",
        "                SELECT count(*)\n",
        "                FROM public.areas\n",
        "'''"
      ]
    },
    {
      "cell_type": "code",
      "execution_count": 14,
      "id": "EZsn9tlfhe7f",
      "metadata": {
        "id": "EZsn9tlfhe7f"
      },
      "outputs": [
        {
          "name": "stdout",
          "output_type": "stream",
          "text": [
            "1362\n"
          ]
        },
        {
          "name": "stderr",
          "output_type": "stream",
          "text": [
            "C:\\Users\\admin\\AppData\\Local\\Temp\\ipykernel_14740\\945151968.py:2: UserWarning: pandas only supports SQLAlchemy connectable (engine/connection) or database string URI or sqlite3 DBAPI2 connection. Other DBAPI2 objects are not tested. Please consider using SQLAlchemy.\n",
            "  result_3_3 = pd.read_sql_query(query_3_3, connection)\n"
          ]
        }
      ],
      "source": [
        "# результат запроса\n",
        "result_3_3 = pd.read_sql_query(query_3_3, connection)\n",
        "print(result_3_3.iloc[0, 0])"
      ]
    },
    {
      "attachments": {},
      "cell_type": "markdown",
      "id": "41bb59f3-53cc-4a67-a5bc-bedf573955e4",
      "metadata": {
        "id": "41bb59f3-53cc-4a67-a5bc-bedf573955e4"
      },
      "source": [
        "4. Посчитате с помощью запроса количество сфер деятельности в базе (таблица industries)."
      ]
    },
    {
      "cell_type": "code",
      "execution_count": 15,
      "id": "d286cf4c-707b-4cd2-9190-7ab3587d04a1",
      "metadata": {
        "id": "d286cf4c-707b-4cd2-9190-7ab3587d04a1"
      },
      "outputs": [],
      "source": [
        "# текст запроса\n",
        "query_3_4 = f'''\n",
        "                SELECT count(*)\n",
        "                FROM public.industries\n",
        "'''"
      ]
    },
    {
      "cell_type": "code",
      "execution_count": 16,
      "id": "JYAaoZ4qhfzW",
      "metadata": {
        "id": "JYAaoZ4qhfzW"
      },
      "outputs": [
        {
          "name": "stdout",
          "output_type": "stream",
          "text": [
            "294\n"
          ]
        },
        {
          "name": "stderr",
          "output_type": "stream",
          "text": [
            "C:\\Users\\admin\\AppData\\Local\\Temp\\ipykernel_14740\\675272324.py:2: UserWarning: pandas only supports SQLAlchemy connectable (engine/connection) or database string URI or sqlite3 DBAPI2 connection. Other DBAPI2 objects are not tested. Please consider using SQLAlchemy.\n",
            "  result_3_4 = pd.read_sql_query(query_3_4, connection)\n"
          ]
        }
      ],
      "source": [
        "# результат запроса\n",
        "result_3_4 = pd.read_sql_query(query_3_4, connection)\n",
        "print(result_3_4.iloc[0, 0])"
      ]
    },
    {
      "attachments": {},
      "cell_type": "markdown",
      "id": "9a8a2181-6914-448b-85f1-38f5f18b8a93",
      "metadata": {
        "id": "9a8a2181-6914-448b-85f1-38f5f18b8a93"
      },
      "source": [
        "***"
      ]
    },
    {
      "cell_type": "code",
      "execution_count": 17,
      "id": "be4e9bd3-a4db-4a20-82fb-6b02fc2957e0",
      "metadata": {
        "id": "be4e9bd3-a4db-4a20-82fb-6b02fc2957e0"
      },
      "outputs": [],
      "source": [
        "# выводы по предварительному анализу данных"
      ]
    },
    {
      "attachments": {},
      "cell_type": "markdown",
      "id": "d4b647bc",
      "metadata": {},
      "source": [
        "В базе данных количество:\n",
        "* вакансий - 49197\n",
        "* работодателей - 23501\n",
        "* регионов - 1362\n",
        "* сфер деятельности - 294\n",
        "\n",
        "Количество вакансий больше количества работодателей, следовательно у многих работодателей несколько вакантных мест.\n",
        "\n",
        "Учитывая что в России всего 1118 городов, а в нашей базе 1362 региона, можно сделать вывод что, вакансии представлены практически во всех городах и регионах."
      ]
    },
    {
      "attachments": {},
      "cell_type": "markdown",
      "id": "8d62a9f3-f64e-4fe7-bdac-c4dffa16155e",
      "metadata": {
        "id": "8d62a9f3-f64e-4fe7-bdac-c4dffa16155e"
      },
      "source": [
        "# Юнит 4. Детальный анализ вакансий"
      ]
    },
    {
      "attachments": {},
      "cell_type": "markdown",
      "id": "93053d3d-b284-481a-9cf7-012d7014c0e0",
      "metadata": {
        "id": "93053d3d-b284-481a-9cf7-012d7014c0e0"
      },
      "source": [
        "1. Напишите запрос, который позволит узнать, сколько (cnt) вакансий в каждом регионе (area).\n",
        "Отсортируйте по количеству вакансий в порядке убывания."
      ]
    },
    {
      "cell_type": "code",
      "execution_count": 18,
      "id": "3f069da6-fdc9-4ae7-b514-fafe2675efd3",
      "metadata": {
        "id": "3f069da6-fdc9-4ae7-b514-fafe2675efd3"
      },
      "outputs": [],
      "source": [
        "# текст запроса\n",
        "query_4_1 = f'''\n",
        "                SELECT\n",
        "                    a.name area,\n",
        "                    count(*) cnt\n",
        "                FROM public.vacancies v\n",
        "                JOIN public.areas a ON v.area_id = a.id --присоединяем таблицу с городами для получения названий\n",
        "                GROUP BY area                           --группируем по названиям городов для агрегации\n",
        "                ORDER BY cnt DESC                       --сортировка по количеству вакансий\n",
        "'''"
      ]
    },
    {
      "cell_type": "code",
      "execution_count": 19,
      "id": "P7QL86hrjhRJ",
      "metadata": {
        "id": "P7QL86hrjhRJ"
      },
      "outputs": [
        {
          "name": "stderr",
          "output_type": "stream",
          "text": [
            "C:\\Users\\admin\\AppData\\Local\\Temp\\ipykernel_14740\\2062383920.py:2: UserWarning: pandas only supports SQLAlchemy connectable (engine/connection) or database string URI or sqlite3 DBAPI2 connection. Other DBAPI2 objects are not tested. Please consider using SQLAlchemy.\n",
            "  result_4_1 = pd.read_sql_query(query_4_1, connection)\n"
          ]
        },
        {
          "name": "stdout",
          "output_type": "stream",
          "text": [
            "              area   cnt\n",
            "0           Москва  5333\n",
            "1  Санкт-Петербург  2851\n",
            "2            Минск  2112\n",
            "3      Новосибирск  2006\n",
            "4           Алматы  1892\n"
          ]
        }
      ],
      "source": [
        "# результат запроса\n",
        "result_4_1 = pd.read_sql_query(query_4_1, connection)\n",
        "print(result_4_1.head())"
      ]
    },
    {
      "attachments": {},
      "cell_type": "markdown",
      "id": "4266f0b6-1646-492a-88b4-2f6a46502135",
      "metadata": {
        "id": "4266f0b6-1646-492a-88b4-2f6a46502135"
      },
      "source": [
        "2. Напишите запрос, чтобы определить у какого количества вакансий заполнено хотя бы одно из двух полей с зарплатой."
      ]
    },
    {
      "cell_type": "code",
      "execution_count": 20,
      "id": "0c44b350-72eb-4d65-8b54-a1fc449ba9fd",
      "metadata": {
        "id": "0c44b350-72eb-4d65-8b54-a1fc449ba9fd"
      },
      "outputs": [],
      "source": [
        "# текст запроса\n",
        "query_4_2 = f'''\n",
        "                SELECT count(*)\n",
        "                FROM public.vacancies\n",
        "                WHERE salary_from IS NOT NULL --условия фильтрации вакансий\n",
        "                OR salary_to IS NOT NULL      -- -//-\n",
        "'''"
      ]
    },
    {
      "cell_type": "code",
      "execution_count": 21,
      "id": "rhvwaMDkoWTi",
      "metadata": {
        "id": "rhvwaMDkoWTi"
      },
      "outputs": [
        {
          "name": "stdout",
          "output_type": "stream",
          "text": [
            "24073\n"
          ]
        },
        {
          "name": "stderr",
          "output_type": "stream",
          "text": [
            "C:\\Users\\admin\\AppData\\Local\\Temp\\ipykernel_14740\\1541976964.py:2: UserWarning: pandas only supports SQLAlchemy connectable (engine/connection) or database string URI or sqlite3 DBAPI2 connection. Other DBAPI2 objects are not tested. Please consider using SQLAlchemy.\n",
            "  result_4_2 = pd.read_sql_query(query_4_2, connection)\n"
          ]
        }
      ],
      "source": [
        "# результат запроса\n",
        "result_4_2 = pd.read_sql_query(query_4_2, connection)\n",
        "print(result_4_2.iloc[0, 0])"
      ]
    },
    {
      "attachments": {},
      "cell_type": "markdown",
      "id": "635c4d5d-f323-4c66-b428-50a088120aa0",
      "metadata": {
        "id": "635c4d5d-f323-4c66-b428-50a088120aa0"
      },
      "source": [
        "3. Найдите средние значения для нижней и верхней границы зарплатной вилки. Округлите значения до целого."
      ]
    },
    {
      "cell_type": "code",
      "execution_count": 22,
      "id": "603cdbe4-0ec3-4106-8eaf-c73fcdd29165",
      "metadata": {
        "id": "603cdbe4-0ec3-4106-8eaf-c73fcdd29165"
      },
      "outputs": [],
      "source": [
        "# текст запроса\n",
        "query_4_3= f'''\n",
        "                SELECT\n",
        "                    AVG(salary_from) lower, --среднее по нижним границам з/п вилки\n",
        "                    AVG(salary_to) upper    --среднее по верхним границам з/п вилки\n",
        "                FROM public.vacancies\n",
        "'''"
      ]
    },
    {
      "cell_type": "code",
      "execution_count": 23,
      "id": "pswpAb66ovZZ",
      "metadata": {
        "id": "pswpAb66ovZZ"
      },
      "outputs": [
        {
          "name": "stderr",
          "output_type": "stream",
          "text": [
            "C:\\Users\\admin\\AppData\\Local\\Temp\\ipykernel_14740\\1495530319.py:2: UserWarning: pandas only supports SQLAlchemy connectable (engine/connection) or database string URI or sqlite3 DBAPI2 connection. Other DBAPI2 objects are not tested. Please consider using SQLAlchemy.\n",
            "  result_4_3 = pd.read_sql_query(query_4_3, connection)\n"
          ]
        },
        {
          "name": "stdout",
          "output_type": "stream",
          "text": [
            "     lower     upper\n",
            "0  71065.0  110537.0\n"
          ]
        }
      ],
      "source": [
        "# результат запроса\n",
        "result_4_3 = pd.read_sql_query(query_4_3, connection)\n",
        "print(result_4_3.round())"
      ]
    },
    {
      "attachments": {},
      "cell_type": "markdown",
      "id": "f3fdaec9-5fd3-4260-9cf5-1d7406b628a5",
      "metadata": {
        "id": "f3fdaec9-5fd3-4260-9cf5-1d7406b628a5"
      },
      "source": [
        "4. Напишите запрос, который выведет количество вакансий для каждого сочетания типа рабочего графика (schedule) и типа трудоустройства (employment), используемого в вакансиях. Результат отсортируйте по убыванию количества.\n"
      ]
    },
    {
      "cell_type": "code",
      "execution_count": 24,
      "id": "1ea710ec-871b-431e-9462-c7d0fd87011b",
      "metadata": {
        "id": "1ea710ec-871b-431e-9462-c7d0fd87011b"
      },
      "outputs": [],
      "source": [
        "# текст запроса\n",
        "query_4_4= f'''\n",
        "                SELECT\n",
        "                    schedule,                 --тип рабочего графика\n",
        "                    employment,               --тип трудоустройства\n",
        "                    count(*)                  --количество вакансий\n",
        "                FROM public.vacancies\n",
        "                GROUP BY schedule, employment --группируем по типу рабочего графика и трудоустройства, чтобы получить все сочетания\n",
        "                ORDER BY count(*) DESC        --сортируем по количеству вакансий\n",
        "'''"
      ]
    },
    {
      "cell_type": "code",
      "execution_count": 25,
      "id": "lGUVqavdo4JQ",
      "metadata": {
        "id": "lGUVqavdo4JQ"
      },
      "outputs": [
        {
          "name": "stderr",
          "output_type": "stream",
          "text": [
            "C:\\Users\\admin\\AppData\\Local\\Temp\\ipykernel_14740\\1531179886.py:2: UserWarning: pandas only supports SQLAlchemy connectable (engine/connection) or database string URI or sqlite3 DBAPI2 connection. Other DBAPI2 objects are not tested. Please consider using SQLAlchemy.\n",
            "  result_4_4 = pd.read_sql_query(query_4_4, connection)\n"
          ]
        },
        {
          "name": "stdout",
          "output_type": "stream",
          "text": [
            "            schedule           employment  count\n",
            "0        Полный день     Полная занятость  35367\n",
            "1   Удаленная работа     Полная занятость   7802\n",
            "2      Гибкий график     Полная занятость   1593\n",
            "3   Удаленная работа  Частичная занятость   1312\n",
            "4     Сменный график     Полная занятость    940\n",
            "5        Полный день           Стажировка    569\n",
            "6     Вахтовый метод     Полная занятость    367\n",
            "7        Полный день  Частичная занятость    347\n",
            "8      Гибкий график  Частичная занятость    312\n",
            "9        Полный день     Проектная работа    141\n",
            "10  Удаленная работа     Проектная работа    133\n",
            "11     Гибкий график           Стажировка    116\n",
            "12    Сменный график  Частичная занятость    101\n",
            "13  Удаленная работа           Стажировка     64\n",
            "14     Гибкий график     Проектная работа     18\n",
            "15    Сменный график           Стажировка     12\n",
            "16    Вахтовый метод     Проектная работа      2\n",
            "17    Сменный график     Проектная работа      1\n"
          ]
        }
      ],
      "source": [
        "# результат запроса\n",
        "result_4_4 = pd.read_sql_query(query_4_4, connection)\n",
        "print(result_4_4)"
      ]
    },
    {
      "attachments": {},
      "cell_type": "markdown",
      "id": "0136ffee-0ead-4a6b-b608-61d1c753a438",
      "metadata": {
        "id": "0136ffee-0ead-4a6b-b608-61d1c753a438"
      },
      "source": [
        "5. Напишите запрос, выводящий значения поля Требуемый опыт работы (experience) в порядке возрастания количества вакансий, в которых указан данный вариант опыта. "
      ]
    },
    {
      "cell_type": "code",
      "execution_count": 26,
      "id": "5b3a8e79-f7ab-4008-b767-12aea3a205ea",
      "metadata": {
        "id": "5b3a8e79-f7ab-4008-b767-12aea3a205ea"
      },
      "outputs": [],
      "source": [
        "# текст запроса\n",
        "query_4_5= f'''\n",
        "                SELECT\n",
        "                    experience,       --требуемый опыт работы\n",
        "                    count(*)          --количество вакансий\n",
        "                FROM public.vacancies\n",
        "                GROUP BY experience   --группировка по опыту работы\n",
        "                ORDER BY count(*)\n",
        "'''"
      ]
    },
    {
      "cell_type": "code",
      "execution_count": 27,
      "id": "3Is64Y-hpDpq",
      "metadata": {
        "id": "3Is64Y-hpDpq"
      },
      "outputs": [
        {
          "name": "stdout",
          "output_type": "stream",
          "text": [
            "           experience  count\n",
            "0         Более 6 лет   1337\n",
            "1           Нет опыта   7197\n",
            "2       От 3 до 6 лет  14511\n",
            "3  От 1 года до 3 лет  26152\n"
          ]
        },
        {
          "name": "stderr",
          "output_type": "stream",
          "text": [
            "C:\\Users\\admin\\AppData\\Local\\Temp\\ipykernel_14740\\3855474113.py:2: UserWarning: pandas only supports SQLAlchemy connectable (engine/connection) or database string URI or sqlite3 DBAPI2 connection. Other DBAPI2 objects are not tested. Please consider using SQLAlchemy.\n",
            "  result_4_5 = pd.read_sql_query(query_4_5, connection)\n"
          ]
        }
      ],
      "source": [
        "# результат запроса\n",
        "result_4_5 = pd.read_sql_query(query_4_5, connection)\n",
        "print(result_4_5)"
      ]
    },
    {
      "attachments": {},
      "cell_type": "markdown",
      "id": "oq2b7n1QpIka",
      "metadata": {
        "id": "oq2b7n1QpIka"
      },
      "source": [
        "***"
      ]
    },
    {
      "cell_type": "code",
      "execution_count": 28,
      "id": "e91f87ed-e25c-4f96-9f92-b642e8c0b4fa",
      "metadata": {
        "id": "e91f87ed-e25c-4f96-9f92-b642e8c0b4fa"
      },
      "outputs": [],
      "source": [
        "# выводы по детальному анализу вакансий"
      ]
    },
    {
      "attachments": {},
      "cell_type": "markdown",
      "id": "2d8718e7",
      "metadata": {},
      "source": [
        "В нашей базе 49197 вакансий, большая часть которых распределенна по крупнейшим городам страны, особо выделяется среди них Москва - 5333 вакансии.\n",
        "\n",
        "Только у половины вакансий заполнено хотябы одно поле зарплатной вилки. Средние значения границ з/п вилки: нижняя - 71065 р., верхняя - 110537 р..\n",
        "\n",
        "Большинство вакансий требуют: полную занятость на полный день - 35367, на втором месте: полная занятость на удалённую работу - 7802.\n",
        "\n",
        "В основном компании ищут сотрудников с опытом работы от 1 года до 3 лет: 26152 вакансии, а также более опытных товарищей с опытом работы от 3 до 6 лет: 14511 вакансий"
      ]
    },
    {
      "attachments": {},
      "cell_type": "markdown",
      "id": "7ea20ab6-04a7-40a0-adec-443a0e5a42c3",
      "metadata": {
        "id": "7ea20ab6-04a7-40a0-adec-443a0e5a42c3"
      },
      "source": [
        "# Юнит 5. Анализ работодателей"
      ]
    },
    {
      "attachments": {},
      "cell_type": "markdown",
      "id": "968aed80-74ef-4ffb-b5bf-c65b84e9caea",
      "metadata": {
        "id": "968aed80-74ef-4ffb-b5bf-c65b84e9caea"
      },
      "source": [
        "1. Напишите запрос, который позволит узнать, какие работодатели находятся на первом и пятом месте по количеству вакансий."
      ]
    },
    {
      "cell_type": "code",
      "execution_count": 29,
      "id": "f2d62796-d400-4ec1-a675-88112739a50e",
      "metadata": {
        "id": "f2d62796-d400-4ec1-a675-88112739a50e"
      },
      "outputs": [],
      "source": [
        "# текст запроса\n",
        "query_5_1 = f'''\n",
        "                SELECT\n",
        "                    e.name employer,                            --названия компаний\n",
        "                    count(*) cnt                                --количество вакансий\n",
        "                FROM public.vacancies v\n",
        "                JOIN public.employers e ON v.employer_id = e.id --присоединяем таблицу с работодателями\n",
        "                GROUP BY employer                               --группировка по названию компании\n",
        "                ORDER BY cnt DESC\n",
        "'''"
      ]
    },
    {
      "cell_type": "code",
      "execution_count": 30,
      "id": "64tOMkAxqkQk",
      "metadata": {
        "id": "64tOMkAxqkQk"
      },
      "outputs": [
        {
          "name": "stderr",
          "output_type": "stream",
          "text": [
            "C:\\Users\\admin\\AppData\\Local\\Temp\\ipykernel_14740\\499902635.py:2: UserWarning: pandas only supports SQLAlchemy connectable (engine/connection) or database string URI or sqlite3 DBAPI2 connection. Other DBAPI2 objects are not tested. Please consider using SQLAlchemy.\n",
            "  result_5_1 = pd.read_sql_query(query_5_1, connection)\n"
          ]
        },
        {
          "name": "stdout",
          "output_type": "stream",
          "text": [
            "        employer   cnt\n",
            "0         Яндекс  1933\n",
            "4  Газпром нефть   331\n"
          ]
        }
      ],
      "source": [
        "# результат запроса\n",
        "result_5_1 = pd.read_sql_query(query_5_1, connection)\n",
        "print(result_5_1.iloc[[0, 4]])"
      ]
    },
    {
      "attachments": {},
      "cell_type": "markdown",
      "id": "68377cfc-b378-43dc-ab7d-1195abf2c515",
      "metadata": {
        "id": "68377cfc-b378-43dc-ab7d-1195abf2c515"
      },
      "source": [
        "2. Напишите запрос, который для каждого региона выведет количество работодателей и вакансий в нём.\n",
        "Среди регионов, в которых нет вакансий, найдите тот, в котором наибольшее количество работодателей.\n"
      ]
    },
    {
      "cell_type": "code",
      "execution_count": 31,
      "id": "dd7df27a-e3e8-412e-a21a-5d389b71e891",
      "metadata": {
        "id": "dd7df27a-e3e8-412e-a21a-5d389b71e891"
      },
      "outputs": [],
      "source": [
        "# текст запроса\n",
        "query_5_2 = f'''\n",
        "                SELECT\n",
        "                    a.name,                                      --название региона\n",
        "                    count(v.id) vac_cnt,                         --количество вакансий\n",
        "                    count(e.id) emp_cnt                          --количество работодателей\n",
        "                FROM public.areas a                              --таблица регионов\n",
        "                LEFT JOIN public.vacancies v ON v.area_id = a.id --таблицу вакансий подключаем left join, чтобы остались даже те регионы, где нету вакансий\n",
        "                LEFT JOIN public.employers e ON a.id = e.area    --также подключаем таблицу компаний\n",
        "                GROUP BY a.id                                    --группировка по регионам\n",
        "                ORDER BY vac_cnt, emp_cnt DESC\n",
        "'''"
      ]
    },
    {
      "cell_type": "code",
      "execution_count": 32,
      "id": "x1ikWbydrbf6",
      "metadata": {
        "id": "x1ikWbydrbf6"
      },
      "outputs": [
        {
          "name": "stderr",
          "output_type": "stream",
          "text": [
            "C:\\Users\\admin\\AppData\\Local\\Temp\\ipykernel_14740\\4111559909.py:2: UserWarning: pandas only supports SQLAlchemy connectable (engine/connection) or database string URI or sqlite3 DBAPI2 connection. Other DBAPI2 objects are not tested. Please consider using SQLAlchemy.\n",
            "  result_5_2 = pd.read_sql_query(query_5_2, connection)\n"
          ]
        },
        {
          "name": "stdout",
          "output_type": "stream",
          "text": [
            "Россия\n"
          ]
        }
      ],
      "source": [
        "# результат запроса\n",
        "result_5_2 = pd.read_sql_query(query_5_2, connection)\n",
        "print(result_5_2.iloc[0, 0])"
      ]
    },
    {
      "attachments": {},
      "cell_type": "markdown",
      "id": "f2fe0acb-ab1a-4e15-9326-2560e22d73c1",
      "metadata": {
        "id": "f2fe0acb-ab1a-4e15-9326-2560e22d73c1"
      },
      "source": [
        "3. Для каждого работодателя посчитайте количество регионов, в которых он публикует свои вакансии. Отсортируйте результат по убыванию количества.\n"
      ]
    },
    {
      "cell_type": "code",
      "execution_count": 33,
      "id": "6271f8ad-bd2e-4196-ae4a-5b39c4c1010e",
      "metadata": {
        "id": "6271f8ad-bd2e-4196-ae4a-5b39c4c1010e"
      },
      "outputs": [],
      "source": [
        "# текст запроса\n",
        "query_5_3 = f'''\n",
        "            SELECT\n",
        "                name,                                            --название работодателя\n",
        "                count(*) cnt                                     --количество регионов\n",
        "            FROM\n",
        "                (\n",
        "                 SELECT                                          --делаем подзапрос чтобы вытянуть названия компаний и относящиеся к ним уникальные регионы\n",
        "                     e.name,                                     --название работодателя\n",
        "                     v.area_id                                   --id региона\n",
        "                 FROM public.vacancies v\n",
        "                 JOIN public.employers e ON e.id = v.employer_id\n",
        "                 GROUP BY e.id, v.area_id                        --группируем по компании, а также по региону, чтобы остались только уникальные регионы\n",
        "                ) AS a\n",
        "            GROUP BY name                                        --группировка по названию компании\n",
        "            ORDER BY cnt DESC\n",
        "'''"
      ]
    },
    {
      "cell_type": "code",
      "execution_count": 34,
      "id": "1EIvX3HasH4F",
      "metadata": {
        "id": "1EIvX3HasH4F"
      },
      "outputs": [
        {
          "name": "stderr",
          "output_type": "stream",
          "text": [
            "C:\\Users\\admin\\AppData\\Local\\Temp\\ipykernel_14740\\2783423974.py:2: UserWarning: pandas only supports SQLAlchemy connectable (engine/connection) or database string URI or sqlite3 DBAPI2 connection. Other DBAPI2 objects are not tested. Please consider using SQLAlchemy.\n",
            "  result_5_3 = pd.read_sql_query(query_5_3, connection)\n"
          ]
        },
        {
          "name": "stdout",
          "output_type": "stream",
          "text": [
            "                     name  cnt\n",
            "0                  Яндекс  181\n",
            "1              Ростелеком  152\n",
            "2              Спецремонт  116\n",
            "3  Поляков Денис Иванович   88\n",
            "4               ООО ЕФИН    71\n"
          ]
        }
      ],
      "source": [
        "# результат запроса\n",
        "result_5_3 = pd.read_sql_query(query_5_3, connection)\n",
        "print(result_5_3.head())"
      ]
    },
    {
      "attachments": {},
      "cell_type": "markdown",
      "id": "eab2206d-d95b-468b-8e5f-34381abf0ce7",
      "metadata": {
        "id": "eab2206d-d95b-468b-8e5f-34381abf0ce7"
      },
      "source": [
        "4. Напишите запрос для подсчёта количества работодателей, у которых не указана сфера деятельности. "
      ]
    },
    {
      "cell_type": "code",
      "execution_count": 35,
      "id": "80defb23-bfb1-4a18-8be6-bf36aa7165d5",
      "metadata": {
        "id": "80defb23-bfb1-4a18-8be6-bf36aa7165d5"
      },
      "outputs": [],
      "source": [
        "# текст запроса\n",
        "query_5_4 = f'''\n",
        "                SELECT count(*)\n",
        "                FROM public.employers e\n",
        "                LEFT JOIN public.employers_industries ei ON ei.employer_id = e.id   --подключаем таблицу с помощью left join, чтобы остались все компании, даже если сфера деят. не указана\n",
        "                WHERE industry_id IS NULL                                           --фильтр по сфере деятельности\n",
        "'''"
      ]
    },
    {
      "cell_type": "code",
      "execution_count": 36,
      "id": "Dp_yCx6ysQSu",
      "metadata": {
        "id": "Dp_yCx6ysQSu"
      },
      "outputs": [
        {
          "name": "stdout",
          "output_type": "stream",
          "text": [
            "8419\n"
          ]
        },
        {
          "name": "stderr",
          "output_type": "stream",
          "text": [
            "C:\\Users\\admin\\AppData\\Local\\Temp\\ipykernel_14740\\1617712234.py:2: UserWarning: pandas only supports SQLAlchemy connectable (engine/connection) or database string URI or sqlite3 DBAPI2 connection. Other DBAPI2 objects are not tested. Please consider using SQLAlchemy.\n",
            "  result_5_4 = pd.read_sql_query(query_5_4, connection)\n"
          ]
        }
      ],
      "source": [
        "# результат запроса\n",
        "result_5_4 = pd.read_sql_query(query_5_4, connection)\n",
        "print(result_5_4.iloc[0, 0])"
      ]
    },
    {
      "attachments": {},
      "cell_type": "markdown",
      "id": "0112af31-f6b0-4e3b-82ab-71296e752e5e",
      "metadata": {
        "id": "0112af31-f6b0-4e3b-82ab-71296e752e5e"
      },
      "source": [
        "5. Напишите запрос, чтобы узнать название компании, находящейся на третьем месте в алфавитном списке (по названию) компаний, у которых указано четыре сферы деятельности. "
      ]
    },
    {
      "cell_type": "code",
      "execution_count": 37,
      "id": "973b0cfc-a972-470a-8b4a-68744ef220c4",
      "metadata": {
        "id": "973b0cfc-a972-470a-8b4a-68744ef220c4"
      },
      "outputs": [],
      "source": [
        "# текст запроса\n",
        "query_5_5 = f'''\n",
        "                SELECT\n",
        "                    name,\n",
        "                    count(*)\n",
        "                FROM public.employers e\n",
        "                JOIN public.employers_industries ei ON ei.employer_id = e.id\n",
        "                GROUP BY name                                                   --группировка по названию компании\n",
        "                HAVING count(*) = 4                                             --фильтр по агрегации\n",
        "                ORDER BY name\n",
        "                OFFSET 2                                                        --вывод конкретной строки\n",
        "                LIMIT 1\n",
        "'''"
      ]
    },
    {
      "cell_type": "code",
      "execution_count": 38,
      "id": "xsPtpp8EsaED",
      "metadata": {
        "id": "xsPtpp8EsaED"
      },
      "outputs": [
        {
          "name": "stdout",
          "output_type": "stream",
          "text": [
            "2ГИС\n"
          ]
        },
        {
          "name": "stderr",
          "output_type": "stream",
          "text": [
            "C:\\Users\\admin\\AppData\\Local\\Temp\\ipykernel_14740\\651350566.py:2: UserWarning: pandas only supports SQLAlchemy connectable (engine/connection) or database string URI or sqlite3 DBAPI2 connection. Other DBAPI2 objects are not tested. Please consider using SQLAlchemy.\n",
            "  result_5_5 = pd.read_sql_query(query_5_5, connection)\n"
          ]
        }
      ],
      "source": [
        "# результат запроса\n",
        "result_5_5 = pd.read_sql_query(query_5_5, connection)\n",
        "print(result_5_5.iloc[0, 0])"
      ]
    },
    {
      "attachments": {},
      "cell_type": "markdown",
      "id": "3bfcfdaf-755d-4d2b-8ed8-326201dc07ab",
      "metadata": {
        "id": "3bfcfdaf-755d-4d2b-8ed8-326201dc07ab"
      },
      "source": [
        "6. С помощью запроса выясните, у какого количества работодателей в качестве сферы деятельности указана Разработка программного обеспечения.\n"
      ]
    },
    {
      "cell_type": "code",
      "execution_count": 39,
      "id": "ad3f270f-2991-47eb-929b-e8f88a55b0d1",
      "metadata": {
        "id": "ad3f270f-2991-47eb-929b-e8f88a55b0d1"
      },
      "outputs": [],
      "source": [
        "# текст запроса\n",
        "query_5_6 = f'''\n",
        "                SELECT count(*)\n",
        "                FROM public.employers_industries ei\n",
        "                JOIN public.industries i ON i.id = ei.industry_id\n",
        "                WHERE i.name = 'Разработка программного обеспечения' --фильтр по сфере деятельности\n",
        "'''"
      ]
    },
    {
      "cell_type": "code",
      "execution_count": 40,
      "id": "H72qxWM0shPR",
      "metadata": {
        "id": "H72qxWM0shPR"
      },
      "outputs": [
        {
          "name": "stdout",
          "output_type": "stream",
          "text": [
            "3553\n"
          ]
        },
        {
          "name": "stderr",
          "output_type": "stream",
          "text": [
            "C:\\Users\\admin\\AppData\\Local\\Temp\\ipykernel_14740\\2037234874.py:2: UserWarning: pandas only supports SQLAlchemy connectable (engine/connection) or database string URI or sqlite3 DBAPI2 connection. Other DBAPI2 objects are not tested. Please consider using SQLAlchemy.\n",
            "  result_5_6 = pd.read_sql_query(query_5_6, connection)\n"
          ]
        }
      ],
      "source": [
        "# результат запроса\n",
        "result_5_6 = pd.read_sql_query(query_5_6, connection)\n",
        "print(result_5_6.iloc[0, 0])"
      ]
    },
    {
      "attachments": {},
      "cell_type": "markdown",
      "id": "7b02bb86-0546-40fb-94a4-242f050a5c57",
      "metadata": {
        "id": "7b02bb86-0546-40fb-94a4-242f050a5c57"
      },
      "source": [
        "7. Для компании «Яндекс» выведите список регионов-миллионников, в которых представлены вакансии компании, вместе с количеством вакансий в этих регионах. Также добавьте строку Total с общим количеством вакансий компании. Результат отсортируйте по возрастанию количества.\n",
        "\n",
        "Список городов-милионников надо взять [отсюда](https://ru.wikipedia.org/wiki/%D0%93%D0%BE%D1%80%D0%BE%D0%B4%D0%B0-%D0%BC%D0%B8%D0%BB%D0%BB%D0%B8%D0%BE%D0%BD%D0%B5%D1%80%D1%8B_%D0%A0%D0%BE%D1%81%D1%81%D0%B8%D0%B8). \n",
        "\n",
        "Если возникнут трудности с этим задание посмотрите материалы модуля  PYTHON-17. Как получать данные из веб-источников и API. "
      ]
    },
    {
      "cell_type": "code",
      "execution_count": 41,
      "id": "ZdfrL6gIs1Pn",
      "metadata": {
        "id": "ZdfrL6gIs1Pn"
      },
      "outputs": [
        {
          "name": "stdout",
          "output_type": "stream",
          "text": [
            "['Москва', 'Санкт-Петербург', 'Новосибирск', 'Екатеринбург', 'Казань', 'Нижний Новгород', 'Красноярск', 'Челябинск', 'Самара', 'Уфа', 'Ростов-на-Дону', 'Краснодар', 'Омск', 'Воронеж', 'Пермь', 'Волгоград']\n"
          ]
        }
      ],
      "source": [
        "# код для получения списка городов-милионников\n",
        "import requests\n",
        "from bs4 import BeautifulSoup\n",
        "url = 'https://ru.wikipedia.org/wiki/%D0%93%D0%BE%D1%80%D0%BE%D0%B4%D0%B0-%D0%BC%D0%B8%D0%BB%D0%BB%D0%B8%D0%BE%D0%BD%D0%B5%D1%80%D1%8B_%D0%A0%D0%BE%D1%81%D1%81%D0%B8%D0%B8'\n",
        "response = requests.get(url)                                                # делаем get запрос\n",
        "page = BeautifulSoup(response.text, 'html.parser')                          # готовим суп (получаем объект типа BeautifulSoup)\n",
        "\n",
        "links = page.find('table', 'standard sortable').find('tbody').find_all('a') # поиск по тегам: нужной таблицы -> тело таблицы -> ссылки с названиями городов\n",
        "city_lst = [link['title'] for link in links[4:]]                            # собираем в список названия городов\n",
        "print(city_lst)"
      ]
    },
    {
      "cell_type": "code",
      "execution_count": 42,
      "id": "5a0e32a4-e68a-4365-8a39-2fe24c542c36",
      "metadata": {
        "id": "5a0e32a4-e68a-4365-8a39-2fe24c542c36"
      },
      "outputs": [],
      "source": [
        "# текст запроса\n",
        "query_5_7 = f'''\n",
        "                SELECT\n",
        "                    a.name,\n",
        "                    count(v.id) cnt\n",
        "                FROM public.vacancies v\n",
        "                JOIN public.areas a ON v.area_id = a.id\n",
        "                JOIN public.employers e ON v.employer_id = e.id\n",
        "                WHERE e.name = 'Яндекс' AND a.name IN {tuple(city_lst)} --фильтр по названию компании и городам\n",
        "                GROUP BY a.name                                         --группировка по городам\n",
        "                \n",
        "                UNION ALL\n",
        "                \n",
        "                SELECT                                                  --добавляем строку total с общим количеством\n",
        "                    'Total',\n",
        "                    count(*)\n",
        "                FROM public.vacancies v\n",
        "                JOIN public.areas a ON v.area_id = a.id\n",
        "                JOIN public.employers e ON v.employer_id = e.id\n",
        "                WHERE e.name = 'Яндекс' AND a.name IN {tuple(city_lst)}\n",
        "                \n",
        "                ORDER BY 2\n",
        "'''"
      ]
    },
    {
      "cell_type": "code",
      "execution_count": 43,
      "id": "ttPhiO1rsvPq",
      "metadata": {
        "id": "ttPhiO1rsvPq"
      },
      "outputs": [
        {
          "name": "stdout",
          "output_type": "stream",
          "text": [
            "               name  cnt\n",
            "0              Омск   21\n",
            "1         Челябинск   22\n",
            "2        Красноярск   23\n",
            "3         Волгоград   24\n",
            "4             Пермь   25\n",
            "5            Казань   25\n",
            "6    Ростов-на-Дону   25\n",
            "7               Уфа   26\n",
            "8            Самара   26\n",
            "9         Краснодар   30\n",
            "10          Воронеж   32\n",
            "11      Новосибирск   35\n",
            "12  Нижний Новгород   36\n",
            "13     Екатеринбург   39\n",
            "14  Санкт-Петербург   42\n",
            "15           Москва   54\n",
            "16            Total  485\n"
          ]
        },
        {
          "name": "stderr",
          "output_type": "stream",
          "text": [
            "C:\\Users\\admin\\AppData\\Local\\Temp\\ipykernel_14740\\1284632481.py:2: UserWarning: pandas only supports SQLAlchemy connectable (engine/connection) or database string URI or sqlite3 DBAPI2 connection. Other DBAPI2 objects are not tested. Please consider using SQLAlchemy.\n",
            "  result_5_7 = pd.read_sql_query(query_5_7, connection)\n"
          ]
        }
      ],
      "source": [
        "# результат запроса\n",
        "result_5_7 = pd.read_sql_query(query_5_7, connection)\n",
        "print(result_5_7)"
      ]
    },
    {
      "attachments": {},
      "cell_type": "markdown",
      "id": "04966e40-3bc3-4dc8-9ba2-e80580ce3abc",
      "metadata": {
        "id": "04966e40-3bc3-4dc8-9ba2-e80580ce3abc"
      },
      "source": [
        "***"
      ]
    },
    {
      "cell_type": "code",
      "execution_count": 44,
      "id": "aGGyER-yt4SR",
      "metadata": {
        "id": "aGGyER-yt4SR"
      },
      "outputs": [],
      "source": [
        "# выводы по анализу работодателей"
      ]
    },
    {
      "cell_type": "code",
      "execution_count": 45,
      "id": "c5977717",
      "metadata": {},
      "outputs": [
        {
          "name": "stdout",
          "output_type": "stream",
          "text": [
            "                 name   cnt\n",
            "0              Яндекс  1690\n",
            "1             DataArt   165\n",
            "2            Тинькофф    95\n",
            "3  Nitka Technologies    77\n",
            "4           ООО ЕФИН     71\n"
          ]
        },
        {
          "name": "stderr",
          "output_type": "stream",
          "text": [
            "C:\\Users\\admin\\AppData\\Local\\Temp\\ipykernel_14740\\1113296988.py:12: UserWarning: pandas only supports SQLAlchemy connectable (engine/connection) or database string URI or sqlite3 DBAPI2 connection. Other DBAPI2 objects are not tested. Please consider using SQLAlchemy.\n",
            "  result_sched = pd.read_sql_query(query_sched, connection)\n"
          ]
        }
      ],
      "source": [
        "# запрос по типу рабочего графика\n",
        "query_sched = f'''\n",
        "                SELECT\n",
        "                    e.name,                                     --названия компаний\n",
        "                    count(*) cnt                                --количество вакансий\n",
        "                FROM public.vacancies v\n",
        "                JOIN public.employers e ON v.employer_id = e.id --присоединяем таблицу с работодателями\n",
        "                WHERE v.schedule = 'Удаленная работа'           --фильтр по типу рабочего графика\n",
        "                GROUP BY e.name \n",
        "                ORDER BY cnt DESC\n",
        "'''\n",
        "result_sched = pd.read_sql_query(query_sched, connection)\n",
        "print(result_sched.head())"
      ]
    },
    {
      "attachments": {},
      "cell_type": "markdown",
      "id": "357e1e46",
      "metadata": {},
      "source": [
        "У большинства компаний открыто менее 500 вакансий, очень сильно выделяется среди всех Яндекс - 1933 вакансии. Вероятно это связанно с тем, что  у Яндекса самая широкая география найма, вакансии распределенны по 181 региону, но основная причина в типе рабочего графика, как можно увидеть в запросе выше: у \"Яндекса\" 1690 вакансий с типом \"Удалённая работа\", данный список возглавляют в основном IT - компании.\n",
        "\n",
        "Из 23501 работодателей, у 8419 не указана сфера деятельности, у 3553 работодателей в качестве сферы деятельности указана Разработка программного обеспечения."
      ]
    },
    {
      "attachments": {},
      "cell_type": "markdown",
      "id": "b1ef156a-efcb-49ce-bb23-90763e7f35b2",
      "metadata": {
        "id": "b1ef156a-efcb-49ce-bb23-90763e7f35b2",
        "tags": []
      },
      "source": [
        "# Юнит 6. Предметный анализ"
      ]
    },
    {
      "attachments": {},
      "cell_type": "markdown",
      "id": "b9cd50a0-992d-4988-8463-2b2b1c4629b4",
      "metadata": {
        "id": "b9cd50a0-992d-4988-8463-2b2b1c4629b4"
      },
      "source": [
        "1. Сколько вакансий имеет отношение к данным?\n",
        "\n",
        "Считаем, что вакансия имеет отношение к данным, если в её названии содержатся слова 'data' или 'данн'.\n",
        "\n",
        "*Подсказка: Обратите внимание, что названия вакансий могут быть написаны в любом регистре.* \n"
      ]
    },
    {
      "cell_type": "code",
      "execution_count": 46,
      "id": "54ab0e50-c0f1-47cc-a54b-bc5c8bc363f9",
      "metadata": {
        "id": "54ab0e50-c0f1-47cc-a54b-bc5c8bc363f9"
      },
      "outputs": [],
      "source": [
        "# текст запроса\n",
        "query_6_1 = f'''\n",
        "                SELECT count(*)\n",
        "                FROM public.vacancies\n",
        "                WHERE name ILIKE '%data%' --фильтр по названию\n",
        "                OR name ILIKE '%данн%'\n",
        "'''"
      ]
    },
    {
      "cell_type": "code",
      "execution_count": 47,
      "id": "9F1meAqsuUjd",
      "metadata": {
        "id": "9F1meAqsuUjd"
      },
      "outputs": [
        {
          "name": "stdout",
          "output_type": "stream",
          "text": [
            "1771\n"
          ]
        },
        {
          "name": "stderr",
          "output_type": "stream",
          "text": [
            "C:\\Users\\admin\\AppData\\Local\\Temp\\ipykernel_14740\\4213675830.py:2: UserWarning: pandas only supports SQLAlchemy connectable (engine/connection) or database string URI or sqlite3 DBAPI2 connection. Other DBAPI2 objects are not tested. Please consider using SQLAlchemy.\n",
            "  result_6_1 = pd.read_sql_query(query_6_1, connection)\n"
          ]
        }
      ],
      "source": [
        "# результат запроса\n",
        "result_6_1 = pd.read_sql_query(query_6_1, connection)\n",
        "print(result_6_1.iloc[0, 0])"
      ]
    },
    {
      "attachments": {},
      "cell_type": "markdown",
      "id": "4dea20cb-a36b-474a-a0b9-e08e8e3857a5",
      "metadata": {
        "id": "4dea20cb-a36b-474a-a0b9-e08e8e3857a5"
      },
      "source": [
        "2. Сколько есть подходящих вакансий для начинающего дата-сайентиста? \n",
        "Будем считать вакансиями для дата-сайентистов такие, в названии которых есть хотя бы одно из следующих сочетаний:\n",
        "* 'data scientist'\n",
        "* 'data science'\n",
        "* 'исследователь данных'\n",
        "* 'ML' (здесь не нужно брать вакансии по HTML)\n",
        "* 'machine learning'\n",
        "* 'машинн%обучен%'\n",
        "\n",
        "** В следующих заданиях мы продолжим работать с вакансиями по этому условию.*\n",
        "\n",
        "Считаем вакансиями для специалистов уровня Junior следующие:\n",
        "* в названии есть слово 'junior' *или*\n",
        "* требуемый опыт — Нет опыта *или*\n",
        "* тип трудоустройства — Стажировка.\n",
        " "
      ]
    },
    {
      "cell_type": "code",
      "execution_count": 48,
      "id": "9c61b3c0-bb66-46c9-ae1e-81d3f5752b4a",
      "metadata": {
        "id": "9c61b3c0-bb66-46c9-ae1e-81d3f5752b4a"
      },
      "outputs": [],
      "source": [
        "# текст запроса\n",
        "query_6_2 = f'''\n",
        "                SELECT count(*)\n",
        "                FROM public.vacancies\n",
        "                WHERE (name ILIKE ANY (array['%data scientist%', '%data science%', '%исследователь данных%', '%machine learning%', '%машинн%обучен%']) --фильтр для поиска подходящих по названию вакансий\n",
        "                OR (name NOT ILIKE '%HTML%' AND name like '%ML%'))\n",
        "                AND (name ILIKE '%junior%' OR experience = 'Нет опыта' OR employment = 'Стажировка')                                                   --дополнительный фильтр для более узкого поиска\n",
        "'''"
      ]
    },
    {
      "cell_type": "code",
      "execution_count": 49,
      "id": "ZNM-LLYuu1dj",
      "metadata": {
        "id": "ZNM-LLYuu1dj"
      },
      "outputs": [
        {
          "name": "stdout",
          "output_type": "stream",
          "text": [
            "51\n"
          ]
        },
        {
          "name": "stderr",
          "output_type": "stream",
          "text": [
            "C:\\Users\\admin\\AppData\\Local\\Temp\\ipykernel_14740\\822192540.py:2: UserWarning: pandas only supports SQLAlchemy connectable (engine/connection) or database string URI or sqlite3 DBAPI2 connection. Other DBAPI2 objects are not tested. Please consider using SQLAlchemy.\n",
            "  result_6_2 = pd.read_sql_query(query_6_2, connection)\n"
          ]
        }
      ],
      "source": [
        "# результат запроса\n",
        "result_6_2 = pd.read_sql_query(query_6_2, connection)\n",
        "print(result_6_2.iloc[0, 0])"
      ]
    },
    {
      "attachments": {},
      "cell_type": "markdown",
      "id": "eedceb80-c5ca-480e-b27a-278dfb8b4438",
      "metadata": {
        "id": "eedceb80-c5ca-480e-b27a-278dfb8b4438"
      },
      "source": [
        "3. Сколько есть вакансий для DS, в которых в качестве ключевого навыка указан SQL или postgres?\n",
        "\n",
        "** Критерии для отнесения вакансии к DS указаны в предыдущем задании.*"
      ]
    },
    {
      "cell_type": "code",
      "execution_count": 50,
      "id": "69621713-0cc5-4f1b-a1d7-bb144fa6148c",
      "metadata": {
        "id": "69621713-0cc5-4f1b-a1d7-bb144fa6148c"
      },
      "outputs": [],
      "source": [
        "# текст запроса\n",
        "query_6_3 = f'''\n",
        "                SELECT count(*)\n",
        "                FROM public.vacancies\n",
        "                WHERE (name ILIKE ANY (array['%data scientist%', '%data science%', '%исследователь данных%', '%machine learning%', '%машинн%обучен%']) --фильтр для поиска подходящих по названию вакансий\n",
        "                OR (name NOT ILIKE '%HTML%' AND name like '%ML%'))\n",
        "                AND (key_skills ILIKE ANY (array['%sql%', '%postgre%']))                                                                               --дополнительный фильтр для более узкого поиска\n",
        "'''"
      ]
    },
    {
      "cell_type": "code",
      "execution_count": 51,
      "id": "alA8WEAAvGdf",
      "metadata": {
        "id": "alA8WEAAvGdf"
      },
      "outputs": [
        {
          "name": "stderr",
          "output_type": "stream",
          "text": [
            "C:\\Users\\admin\\AppData\\Local\\Temp\\ipykernel_14740\\569399340.py:2: UserWarning: pandas only supports SQLAlchemy connectable (engine/connection) or database string URI or sqlite3 DBAPI2 connection. Other DBAPI2 objects are not tested. Please consider using SQLAlchemy.\n",
            "  result_6_3 = pd.read_sql_query(query_6_3, connection)\n"
          ]
        },
        {
          "name": "stdout",
          "output_type": "stream",
          "text": [
            "201\n"
          ]
        }
      ],
      "source": [
        "# результат запроса\n",
        "result_6_3 = pd.read_sql_query(query_6_3, connection)\n",
        "print(result_6_3.iloc[0, 0])"
      ]
    },
    {
      "attachments": {},
      "cell_type": "markdown",
      "id": "1be1e9c6-37cf-4a5f-bfeb-04cab799dc80",
      "metadata": {
        "id": "1be1e9c6-37cf-4a5f-bfeb-04cab799dc80"
      },
      "source": [
        "4. Проверьте, насколько популярен Python в требованиях работодателей к DS.Для этого вычислите количество вакансий, в которых в качестве ключевого навыка указан Python.\n",
        "\n",
        "** Это можно сделать помощью запроса, аналогичного предыдущему.*"
      ]
    },
    {
      "cell_type": "code",
      "execution_count": 52,
      "id": "0036a355-9ccf-4564-8b01-73d8194297e7",
      "metadata": {
        "id": "0036a355-9ccf-4564-8b01-73d8194297e7"
      },
      "outputs": [],
      "source": [
        "# текст запроса\n",
        "query_6_4 = f'''\n",
        "                SELECT count(*)\n",
        "                FROM public.vacancies\n",
        "                WHERE (name ILIKE ANY (array['%data scientist%', '%data science%', '%исследователь данных%', '%machine learning%', '%машинн%обучен%'])\n",
        "                OR (name NOT ILIKE '%HTML%' AND name like '%ML%'))\n",
        "                AND (key_skills ILIKE '%python%')\n",
        "'''"
      ]
    },
    {
      "cell_type": "code",
      "execution_count": 53,
      "id": "1i-5WyucvQ6v",
      "metadata": {
        "id": "1i-5WyucvQ6v"
      },
      "outputs": [
        {
          "name": "stdout",
          "output_type": "stream",
          "text": [
            "351\n"
          ]
        },
        {
          "name": "stderr",
          "output_type": "stream",
          "text": [
            "C:\\Users\\admin\\AppData\\Local\\Temp\\ipykernel_14740\\4193089791.py:2: UserWarning: pandas only supports SQLAlchemy connectable (engine/connection) or database string URI or sqlite3 DBAPI2 connection. Other DBAPI2 objects are not tested. Please consider using SQLAlchemy.\n",
            "  result_6_4 = pd.read_sql_query(query_6_4, connection)\n"
          ]
        }
      ],
      "source": [
        "# результат запроса\n",
        "result_6_4 = pd.read_sql_query(query_6_4, connection)\n",
        "print(result_6_4.iloc[0, 0])"
      ]
    },
    {
      "attachments": {},
      "cell_type": "markdown",
      "id": "ec3c8db7-fa21-4a41-a994-1af63742a642",
      "metadata": {
        "id": "ec3c8db7-fa21-4a41-a994-1af63742a642"
      },
      "source": [
        "5. Сколько ключевых навыков в среднем указывают в вакансиях для DS?\n",
        "Ответ округлите до двух знаков после точки-разделителя."
      ]
    },
    {
      "cell_type": "code",
      "execution_count": 54,
      "id": "949132bc-d5b6-4611-8218-0b9a504d74f4",
      "metadata": {
        "id": "949132bc-d5b6-4611-8218-0b9a504d74f4"
      },
      "outputs": [],
      "source": [
        "# текст запроса\n",
        "query_6_5 = f'''\n",
        "                SELECT avg((length(key_skills) - length(replace(key_skills, e'\\t', '')))+1)     --ключевые навыки разделены табуляцией, считаем разность количества символов в строках с табуляцией и без.\n",
        "                FROM public.vacancies\n",
        "                WHERE (name ILIKE ANY (array['%data scientist%', '%data science%', '%исследователь данных%', '%machine learning%', '%машинн%обучен%'])\n",
        "                OR (name NOT ILIKE '%HTML%' AND name like '%ML%'))\n",
        "'''"
      ]
    },
    {
      "cell_type": "code",
      "execution_count": 55,
      "id": "a3V24Tvmviqk",
      "metadata": {
        "id": "a3V24Tvmviqk"
      },
      "outputs": [
        {
          "name": "stderr",
          "output_type": "stream",
          "text": [
            "C:\\Users\\admin\\AppData\\Local\\Temp\\ipykernel_14740\\700219386.py:2: UserWarning: pandas only supports SQLAlchemy connectable (engine/connection) or database string URI or sqlite3 DBAPI2 connection. Other DBAPI2 objects are not tested. Please consider using SQLAlchemy.\n",
            "  result_6_5 = pd.read_sql_query(query_6_5, connection)\n"
          ]
        },
        {
          "name": "stdout",
          "output_type": "stream",
          "text": [
            "6.41\n"
          ]
        }
      ],
      "source": [
        "# результат запроса\n",
        "result_6_5 = pd.read_sql_query(query_6_5, connection)\n",
        "print(result_6_5.iloc[0, 0].round(2))"
      ]
    },
    {
      "attachments": {},
      "cell_type": "markdown",
      "id": "1041c17a-ca8f-4543-a0ca-32778914fb00",
      "metadata": {
        "id": "1041c17a-ca8f-4543-a0ca-32778914fb00"
      },
      "source": [
        "6. Напишите запрос, позволяющий вычислить, какую зарплату для DS в **среднем** указывают для каждого типа требуемого опыта (уникальное значение из поля *experience*). \n",
        "\n",
        "При решении задачи примите во внимание следующее:\n",
        "1. Рассматриваем только вакансии, у которых заполнено хотя бы одно из двух полей с зарплатой.\n",
        "2. Если заполнены оба поля с зарплатой, то считаем зарплату по каждой вакансии как сумму двух полей, делённую на 2. Если заполнено только одно из полей, то его и считаем зарплатой по вакансии.\n",
        "3. Если в расчётах участвует null, в результате он тоже даст null (посмотрите, что возвращает запрос select 1 + null). Чтобы избежать этой ситуацию, мы воспользуемся функцией [coalesce](https://postgrespro.ru/docs/postgresql/9.5/functions-conditional#functions-coalesce-nvl-ifnull), которая заменит null на значение, которое мы передадим. Например, посмотрите, что возвращает запрос `select 1 + coalesce(null, 0)`\n",
        "\n",
        "Выясните, на какую зарплату в среднем может рассчитывать дата-сайентист с опытом работы от 3 до 6 лет. Результат округлите до целого числа. "
      ]
    },
    {
      "cell_type": "code",
      "execution_count": 56,
      "id": "6a743d39-5204-48d3-8271-b9f88e68d40e",
      "metadata": {
        "id": "6a743d39-5204-48d3-8271-b9f88e68d40e"
      },
      "outputs": [],
      "source": [
        "# текст запроса\n",
        "query_6_6 = f'''\n",
        "                SELECT\n",
        "                    experience,                                                         --опыт работы\n",
        "                    avg(coalesce((salary_from + salary_to)/2, salary_from, salary_to))  --средняя зарплата, так как в значениях есть NULL, используем функцию coalesce\n",
        "                FROM public.vacancies\n",
        "                WHERE (name ILIKE ANY (array['%data scientist%', '%data science%', '%исследователь данных%', '%machine learning%', '%машинн%обучен%']) OR (name NOT ILIKE '%HTML%' AND name like '%ML%'))\n",
        "                AND (salary_from IS NOT NULL OR salary_to IS NOT NULL)\n",
        "                GROUP BY experience\n",
        "'''"
      ]
    },
    {
      "cell_type": "code",
      "execution_count": 57,
      "id": "aRIJ0mZEwU1_",
      "metadata": {
        "id": "aRIJ0mZEwU1_"
      },
      "outputs": [
        {
          "name": "stderr",
          "output_type": "stream",
          "text": [
            "C:\\Users\\admin\\AppData\\Local\\Temp\\ipykernel_14740\\181823913.py:2: UserWarning: pandas only supports SQLAlchemy connectable (engine/connection) or database string URI or sqlite3 DBAPI2 connection. Other DBAPI2 objects are not tested. Please consider using SQLAlchemy.\n",
            "  result_6_6 = pd.read_sql_query(query_6_6, connection)\n"
          ]
        },
        {
          "name": "stdout",
          "output_type": "stream",
          "text": [
            "           experience       avg\n",
            "0           Нет опыта   74643.0\n",
            "1  От 1 года до 3 лет  139675.0\n",
            "2       От 3 до 6 лет  243115.0\n"
          ]
        }
      ],
      "source": [
        "# результат запроса\n",
        "result_6_6 = pd.read_sql_query(query_6_6, connection)\n",
        "print(result_6_6.round())"
      ]
    },
    {
      "attachments": {},
      "cell_type": "markdown",
      "id": "6a7892b4-4113-4746-adce-18aa2844f18e",
      "metadata": {
        "id": "6a7892b4-4113-4746-adce-18aa2844f18e"
      },
      "source": [
        "***"
      ]
    },
    {
      "cell_type": "code",
      "execution_count": 58,
      "id": "UjLWUptVwY1o",
      "metadata": {
        "id": "UjLWUptVwY1o"
      },
      "outputs": [],
      "source": [
        "# выводы по предметному анализу"
      ]
    },
    {
      "cell_type": "code",
      "execution_count": 59,
      "id": "e64fcc7d",
      "metadata": {},
      "outputs": [
        {
          "name": "stderr",
          "output_type": "stream",
          "text": [
            "C:\\Users\\admin\\AppData\\Local\\Temp\\ipykernel_14740\\1023634410.py:9: UserWarning: pandas only supports SQLAlchemy connectable (engine/connection) or database string URI or sqlite3 DBAPI2 connection. Other DBAPI2 objects are not tested. Please consider using SQLAlchemy.\n",
            "  result_ds = pd.read_sql_query(query_ds, connection)\n"
          ]
        },
        {
          "name": "stdout",
          "output_type": "stream",
          "text": [
            "480\n"
          ]
        },
        {
          "name": "stderr",
          "output_type": "stream",
          "text": [
            "C:\\Users\\admin\\AppData\\Local\\Temp\\ipykernel_14740\\1023634410.py:20: UserWarning: pandas only supports SQLAlchemy connectable (engine/connection) or database string URI or sqlite3 DBAPI2 connection. Other DBAPI2 objects are not tested. Please consider using SQLAlchemy.\n",
            "  result_midds = pd.read_sql_query(query_midds, connection)\n"
          ]
        },
        {
          "name": "stdout",
          "output_type": "stream",
          "text": [
            "243\n"
          ]
        }
      ],
      "source": [
        "# количество Data Scientist вакансий\n",
        "query_ds = f'''\n",
        "                SELECT count(*)                                                                                                                        --количество вакансий\n",
        "                FROM public.vacancies\n",
        "                WHERE (name ILIKE ANY (array['%data scientist%', '%data science%', '%исследователь данных%', '%machine learning%', '%машинн%обучен%']) --фильтр для поиска подходящих по названию вакансий\n",
        "                OR (name NOT ILIKE '%HTML%' AND name like '%ML%'))\n",
        "'''\n",
        "\n",
        "result_ds = pd.read_sql_query(query_ds, connection)\n",
        "print(result_ds.iloc[0, 0])\n",
        "# количество DS вакансий уровня Middle\n",
        "query_midds = f'''\n",
        "                SELECT count(*)                                                                                                                        --количество вакансий\n",
        "                FROM public.vacancies\n",
        "                WHERE (name ILIKE ANY (array['%data scientist%', '%data science%', '%исследователь данных%', '%machine learning%', '%машинн%обучен%']) --фильтр для поиска подходящих по названию вакансий\n",
        "                OR (name NOT ILIKE '%HTML%' AND name like '%ML%'))\n",
        "                AND (name ILIKE '%middle%' OR experience = 'От 1 года до 3 лет')                                                                       --дополнительный фильтр для более узкого поиска\n",
        "'''\n",
        "\n",
        "result_midds = pd.read_sql_query(query_midds, connection)\n",
        "print(result_midds.iloc[0, 0])"
      ]
    },
    {
      "attachments": {},
      "cell_type": "markdown",
      "id": "ce2301aa",
      "metadata": {},
      "source": [
        "Количество вакансий имеющих отношение к данным 1771, из них 480 вакансий по Data Science.\n",
        "Число DS вакансий для уровня:\n",
        "* Junior - 51\n",
        "* Middle - 243\n",
        "* Senior и прочее - 186\n",
        "\n",
        "Около половины DS вакансий требуют знания SQL, а знания Python необходимы в 351 вакансии.\n",
        "\n",
        "Средняя з.п. DS вакансий для уровня:\n",
        "* Junior - 75 000\n",
        "* Middle - 140 000\n",
        "* Senior и прочее - 240 000"
      ]
    },
    {
      "attachments": {},
      "cell_type": "markdown",
      "id": "c0ED6fh7wiBT",
      "metadata": {
        "id": "c0ED6fh7wiBT"
      },
      "source": [
        "# Общий вывод по проекту"
      ]
    },
    {
      "cell_type": "code",
      "execution_count": 60,
      "id": "h9B3BL-wwj18",
      "metadata": {
        "id": "h9B3BL-wwj18"
      },
      "outputs": [],
      "source": [
        "# подведем итог исследования, обобщите выводы\n",
        "# здесь можно (это будет плюсом) провести дополнительные исследования данных, сделать прогнозы, продумать варианты продолжения исследования"
      ]
    },
    {
      "attachments": {},
      "cell_type": "markdown",
      "id": "836c82bf",
      "metadata": {},
      "source": [
        "### Дополнительное исследование\n",
        "Давайте узнаем какими навыками должен обладать специалист Data Science.\n",
        "\n",
        "Для этого сделаем запрос к нашей базе данных по ключевым навыкам (сделаем ТОП ключевых навыков)."
      ]
    },
    {
      "cell_type": "code",
      "execution_count": 61,
      "id": "509296e5",
      "metadata": {},
      "outputs": [
        {
          "name": "stderr",
          "output_type": "stream",
          "text": [
            "C:\\Users\\admin\\AppData\\Local\\Temp\\ipykernel_14740\\4004135451.py:15: UserWarning: pandas only supports SQLAlchemy connectable (engine/connection) or database string URI or sqlite3 DBAPI2 connection. Other DBAPI2 objects are not tested. Please consider using SQLAlchemy.\n",
            "  result_topkeysk = pd.read_sql_query(query_topkeysk, connection)\n"
          ]
        },
        {
          "name": "stdout",
          "output_type": "stream",
          "text": [
            "                           skill  cnt\n",
            "0                         python  348\n",
            "1                            sql  191\n",
            "2               machine_learning  140\n",
            "3                            git   66\n",
            "4                   data_science   64\n",
            "5      математическая_статистика   62\n",
            "6                        pytorch   61\n",
            "7                         pandas   55\n",
            "8                  data_analysis   54\n",
            "9                             ml   49\n",
            "10               английский_язык   48\n",
            "11                         linux   47\n",
            "12                 анализ_данных   46\n",
            "13                           nlp   42\n",
            "14                    tensorflow   42\n",
            "15                      big_data   42\n",
            "16                        docker   41\n",
            "17  математическое_моделирование   41\n",
            "18         статистический_анализ   40\n",
            "19                           c++   39\n",
            "20                         numpy   38\n"
          ]
        }
      ],
      "source": [
        "query_topkeysk = f'''\n",
        "            SELECT\n",
        "                skill,                                                                                                                                  --ключевой навык\n",
        "                count(*) cnt                                                                                                                            --количество\n",
        "            FROM\n",
        "                (SELECT regexp_split_to_table(replace(lower(key_skills), ' ', '_'), '\\s+') skill                                                        --разделяем строку key_skill по табуляции и делаем таблицу из ключевых навыков\n",
        "                 FROM public.vacancies\n",
        "                 WHERE (name ILIKE ANY (array['%data scientist%', '%data science%', '%исследователь данных%', '%machine learning%', '%машинн%обучен%']) --фильтр по проффессии\n",
        "                 OR (name NOT ILIKE '%HTML%' AND name like '%ML%'))\n",
        "                ) AS s\n",
        "            GROUP BY skill\n",
        "            ORDER BY cnt DESC\n",
        "'''\n",
        "\n",
        "result_topkeysk = pd.read_sql_query(query_topkeysk, connection)\n",
        "print(result_topkeysk.head(21))"
      ]
    },
    {
      "attachments": {},
      "cell_type": "markdown",
      "id": "6f59144a",
      "metadata": {},
      "source": [
        "В нашем запросе не учитываются небольшие различия в названиях навыков, но даже в таком виде становиться ясно какими навыками должен обладать DS специалист, а это:\n",
        "* Python\n",
        "* SQL\n",
        "* Алгоритмы Machine Learning\n",
        "* Git\n",
        "* Мат. статистика\n",
        "* Английский язык\n",
        "* Pandas, NumPy, Pytorch, TensorFlow и т.д."
      ]
    },
    {
      "cell_type": "code",
      "execution_count": 62,
      "id": "0bc40c67",
      "metadata": {},
      "outputs": [
        {
          "name": "stderr",
          "output_type": "stream",
          "text": [
            "C:\\Users\\admin\\AppData\\Local\\Temp\\ipykernel_14740\\1238765384.py:10: UserWarning: pandas only supports SQLAlchemy connectable (engine/connection) or database string URI or sqlite3 DBAPI2 connection. Other DBAPI2 objects are not tested. Please consider using SQLAlchemy.\n",
            "  result_sal = pd.read_sql_query(query_sal, connection)\n"
          ]
        },
        {
          "name": "stdout",
          "output_type": "stream",
          "text": [
            "62\n"
          ]
        }
      ],
      "source": [
        "# Посмотрим сколько указано зарплат для DS\n",
        "query_sal = f'''\n",
        "                SELECT count(*)                                                                                                                        --количество вакансий\n",
        "                FROM public.vacancies\n",
        "                WHERE (name ILIKE ANY (array['%data scientist%', '%data science%', '%исследователь данных%', '%machine learning%', '%машинн%обучен%']) --фильтр для поиска подходящих по названию вакансий\n",
        "                OR (name NOT ILIKE '%HTML%' AND name like '%ML%'))\n",
        "                AND (salary_from IS NOT NULL OR salary_to IS NOT NULL)                                                                                 --фильтр по указанным зарплатам\n",
        "'''\n",
        "\n",
        "result_sal = pd.read_sql_query(query_sal, connection)\n",
        "print(result_sal.iloc[0, 0])"
      ]
    },
    {
      "cell_type": "code",
      "execution_count": 63,
      "id": "364e685b",
      "metadata": {},
      "outputs": [],
      "source": [
        "# закрываем соединение\n",
        "connection.close()"
      ]
    },
    {
      "attachments": {},
      "cell_type": "markdown",
      "id": "834508be",
      "metadata": {},
      "source": [
        "Как видим из 480 вакансий по Data Science, зарплата указанна только у 62.\n",
        "\n",
        "---\n",
        "\n",
        "### Общий вывод\n",
        "\n",
        "Для нашего проекта: ***создание модели машинного обучения, которая будет рекомендовать вакансии клиентам агентства, претендующим на позицию Data Scientist***,\n",
        "\n",
        "необходимо провести дальнейший анализ вакансий, выявить зависимости зарплаты от опыта работы, набора ключевых навыков, графика работы и т.д. и сначала, создать\n",
        "\n",
        "модель машинного обучения для заполнения недостающих данных о заработной плате. Тогда наша база данных будет хорошо подходить для нашей основной цели - создание рекомендательной системы."
      ]
    }
  ],
  "metadata": {
    "colab": {
      "collapsed_sections": [
        "8d62a9f3-f64e-4fe7-bdac-c4dffa16155e"
      ],
      "provenance": []
    },
    "kernelspec": {
      "display_name": "Python 3 (ipykernel)",
      "language": "python",
      "name": "python3"
    },
    "language_info": {
      "codemirror_mode": {
        "name": "ipython",
        "version": 3
      },
      "file_extension": ".py",
      "mimetype": "text/x-python",
      "name": "python",
      "nbconvert_exporter": "python",
      "pygments_lexer": "ipython3",
      "version": "3.11.1"
    }
  },
  "nbformat": 4,
  "nbformat_minor": 5
}
